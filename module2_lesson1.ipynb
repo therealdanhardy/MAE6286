{
 "cells": [
  {
   "cell_type": "markdown",
   "metadata": {},
   "source": [
    "# 1D linear convection"
   ]
  },
  {
   "cell_type": "code",
   "execution_count": 1,
   "metadata": {},
   "outputs": [],
   "source": [
    "import numpy\n",
    "from matplotlib import pyplot\n",
    "%matplotlib inline"
   ]
  },
  {
   "cell_type": "code",
   "execution_count": 131,
   "metadata": {},
   "outputs": [],
   "source": [
    "# Set parameters\n",
    "nx = 81\n",
    "L = 2.0\n",
    "dx = L / (nx - 1)\n",
    "nt = 25\n",
    "dt = 0.01\n",
    "c = 1.0"
   ]
  },
  {
   "cell_type": "code",
   "execution_count": 132,
   "metadata": {},
   "outputs": [],
   "source": [
    "x = numpy.linspace(0.0, L, num=nx)"
   ]
  },
  {
   "cell_type": "code",
   "execution_count": 133,
   "metadata": {},
   "outputs": [],
   "source": [
    "u0 = numpy.ones(nx)\n",
    "mask = numpy.where((x >= 0.5) & (x <= 1.0))"
   ]
  },
  {
   "cell_type": "code",
   "execution_count": 134,
   "metadata": {},
   "outputs": [],
   "source": [
    "u0[mask] = 2.0"
   ]
  },
  {
   "cell_type": "code",
   "execution_count": 135,
   "metadata": {},
   "outputs": [
    {
     "name": "stdout",
     "output_type": "stream",
     "text": [
      "0.0 1.0\n",
      "0.025 1.0\n",
      "0.05 1.0\n",
      "0.07500000000000001 1.0\n",
      "0.1 1.0\n",
      "0.125 1.0\n",
      "0.15000000000000002 1.0\n",
      "0.17500000000000002 1.0\n",
      "0.2 1.0\n",
      "0.225 1.0\n",
      "0.25 1.0\n",
      "0.275 1.0\n",
      "0.30000000000000004 1.0\n",
      "0.325 1.0\n",
      "0.35000000000000003 1.0\n",
      "0.375 1.0\n",
      "0.4 1.0\n",
      "0.42500000000000004 1.0\n",
      "0.45 1.0\n",
      "0.47500000000000003 1.0\n",
      "0.5 2.0\n",
      "0.525 2.0\n",
      "0.55 2.0\n",
      "0.5750000000000001 2.0\n",
      "0.6000000000000001 2.0\n",
      "0.625 2.0\n",
      "0.65 2.0\n",
      "0.675 2.0\n",
      "0.7000000000000001 2.0\n",
      "0.7250000000000001 2.0\n",
      "0.75 2.0\n",
      "0.775 2.0\n",
      "0.8 2.0\n",
      "0.8250000000000001 2.0\n",
      "0.8500000000000001 2.0\n",
      "0.875 2.0\n",
      "0.9 2.0\n",
      "0.925 2.0\n",
      "0.9500000000000001 2.0\n",
      "0.9750000000000001 2.0\n",
      "1.0 2.0\n",
      "1.0250000000000001 1.0\n",
      "1.05 1.0\n",
      "1.075 1.0\n",
      "1.1 1.0\n",
      "1.125 1.0\n",
      "1.1500000000000001 1.0\n",
      "1.175 1.0\n",
      "1.2000000000000002 1.0\n",
      "1.225 1.0\n",
      "1.25 1.0\n",
      "1.2750000000000001 1.0\n",
      "1.3 1.0\n",
      "1.3250000000000002 1.0\n",
      "1.35 1.0\n",
      "1.375 1.0\n",
      "1.4000000000000001 1.0\n",
      "1.425 1.0\n",
      "1.4500000000000002 1.0\n",
      "1.475 1.0\n",
      "1.5 1.0\n",
      "1.5250000000000001 1.0\n",
      "1.55 1.0\n",
      "1.5750000000000002 1.0\n",
      "1.6 1.0\n",
      "1.625 1.0\n",
      "1.6500000000000001 1.0\n",
      "1.675 1.0\n",
      "1.7000000000000002 1.0\n",
      "1.725 1.0\n",
      "1.75 1.0\n",
      "1.7750000000000001 1.0\n",
      "1.8 1.0\n",
      "1.8250000000000002 1.0\n",
      "1.85 1.0\n",
      "1.875 1.0\n",
      "1.9000000000000001 1.0\n",
      "1.925 1.0\n",
      "1.9500000000000002 1.0\n",
      "1.975 1.0\n",
      "2.0 1.0\n"
     ]
    }
   ],
   "source": [
    "for i in range(nx):\n",
    "    print(x[i], u0[i])"
   ]
  },
  {
   "cell_type": "code",
   "execution_count": 136,
   "metadata": {},
   "outputs": [],
   "source": [
    "def plot_figure(x, u0, u):\n",
    "    pyplot.figure(figsize=(4.0, 4.0))\n",
    "    pyplot.xlabel('x')\n",
    "    pyplot.ylabel('u')\n",
    "    pyplot.grid()\n",
    "    pyplot.plot(x, u0, label='Initial')\n",
    "    pyplot.plot(x, u, label='Current')\n",
    "    pyplot.legend()\n",
    "    pyplot.xlim(0.0, 2.0)\n",
    "    pyplot.ylim(0.0, 2.5)    "
   ]
  },
  {
   "cell_type": "code",
   "execution_count": 137,
   "metadata": {},
   "outputs": [
    {
     "data": {
      "image/png": "[encoded data removed]",
      "text/plain": [
       "<Figure size 288x288 with 1 Axes>"
      ]
     },
     "metadata": {},
     "output_type": "display_data"
    }
   ],
   "source": [
    "plot_figure(x, u0, u0)"
   ]
  },
  {
   "cell_type": "code",
   "execution_count": 138,
   "metadata": {},
   "outputs": [],
   "source": [
    "u = u0.copy()\n",
    "for n in range(nt):\n",
    "    un = u.copy()\n",
    "    for i in range(1, nx):\n",
    "        u[i] = un[i]-c*dt/dx*(un[i]-un[i-1])"
   ]
  },
  {
   "cell_type": "code",
   "execution_count": 139,
   "metadata": {},
   "outputs": [
    {
     "data": {
      "image/png": "[encoded data removed]",
      "text/plain": [
       "<Figure size 288x288 with 1 Axes>"
      ]
     },
     "metadata": {},
     "output_type": "display_data"
    }
   ],
   "source": [
    "plot_figure(x, u0, u)"
   ]
  },
  {
   "cell_type": "markdown",
   "metadata": {},
   "source": [
    "# 1D non-linear convection"
   ]
  },
  {
   "cell_type": "code",
   "execution_count": 140,
   "metadata": {},
   "outputs": [],
   "source": [
    "u = u0.copy()\n",
    "for n in range(nt):\n",
    "    un = u.copy()\n",
    "    for i in range(1, nx):\n",
    "        u[i] = un[i]-un[i]*dt/dx*(un[i]-un[i-1])"
   ]
  },
  {
   "cell_type": "code",
   "execution_count": 141,
   "metadata": {
    "scrolled": true
   },
   "outputs": [
    {
     "data": {
      "image/png": "[encoded data removed]",
      "text/plain": [
       "<Figure size 288x288 with 1 Axes>"
      ]
     },
     "metadata": {},
     "output_type": "display_data"
    }
   ],
   "source": [
    "plot_figure(x, u0, u)"
   ]
  },
  {
   "cell_type": "code",
   "execution_count": 142,
   "metadata": {},
   "outputs": [],
   "source": [
    "a = numpy.linspace(0.0, 1.0, num=6)"
   ]
  },
  {
   "cell_type": "code",
   "execution_count": 143,
   "metadata": {},
   "outputs": [
    {
     "data": {
      "text/plain": [
       "array([0.2, 0.4, 0.6, 0.8])"
      ]
     },
     "execution_count": 143,
     "metadata": {},
     "output_type": "execute_result"
    }
   ],
   "source": [
    "a[1:-1]"
   ]
  },
  {
   "cell_type": "code",
   "execution_count": 144,
   "metadata": {},
   "outputs": [
    {
     "data": {
      "text/plain": [
       "array([0.2, 0.4, 0.6, 0.8, 1. ])"
      ]
     },
     "execution_count": 144,
     "metadata": {},
     "output_type": "execute_result"
    }
   ],
   "source": [
    "a[1:]"
   ]
  },
  {
   "cell_type": "code",
   "execution_count": 145,
   "metadata": {},
   "outputs": [
    {
     "data": {
      "text/plain": [
       "array([0. , 0.2, 0.4, 0.6, 0.8, 1. ])"
      ]
     },
     "execution_count": 145,
     "metadata": {},
     "output_type": "execute_result"
    }
   ],
   "source": [
    "a[:]"
   ]
  },
  {
   "cell_type": "code",
   "execution_count": 148,
   "metadata": {},
   "outputs": [
    {
     "data": {
      "text/plain": [
       "array([0., 1., 1., 1., 1., 1.])"
      ]
     },
     "execution_count": 148,
     "metadata": {},
     "output_type": "execute_result"
    }
   ],
   "source": [
    "for i in range(1, len(a)):\n",
    "    a[i] = 1.0\n",
    "a"
   ]
  },
  {
   "cell_type": "code",
   "execution_count": 149,
   "metadata": {},
   "outputs": [
    {
     "data": {
      "text/plain": [
       "array([0., 1., 1., 1., 1., 1.])"
      ]
     },
     "execution_count": 149,
     "metadata": {},
     "output_type": "execute_result"
    }
   ],
   "source": [
    "a[1:] = 1.0\n",
    "a"
   ]
  },
  {
   "cell_type": "code",
   "execution_count": null,
   "metadata": {},
   "outputs": [],
   "source": [
    "u = u0.copy()\n",
    "for n in range(nt):\n",
    "    un = u.copy()\n",
    "    #for i in range(1, nx):\n",
    "    #    u[i] = un[i]-un[i]*dt/dx*(un[i]-un[i-1])\n",
    "    u[1:] = un[1:] - un [1:]*dt/dx*(un[1:]-un[:-1])"
   ]
  },
  {
   "cell_type": "code",
   "execution_count": 150,
   "metadata": {},
   "outputs": [
    {
     "data": {
      "image/png": "[encoded data removed]",
      "text/plain": [
       "<Figure size 288x288 with 1 Axes>"
      ]
     },
     "metadata": {},
     "output_type": "display_data"
    }
   ],
   "source": [
    "plot_figure(x, u0, u)"
   ]
  },
  {
   "cell_type": "code",
   "execution_count": null,
   "metadata": {},
   "outputs": [],
   "source": []
  }
 ],
 "metadata": {
  "kernelspec": {
   "display_name": "Python 3",
   "language": "python",
   "name": "python3"
  },
  "language_info": {
   "codemirror_mode": {
    "name": "ipython",
    "version": 3
   },
   "file_extension": ".py",
   "mimetype": "text/x-python",
   "name": "python",
   "nbconvert_exporter": "python",
   "pygments_lexer": "ipython3",
   "version": "3.6.2"
  }
 },
 "nbformat": 4,
 "nbformat_minor": 2
}
