{
 "cells": [
  {
   "cell_type": "code",
   "execution_count": 21,
   "metadata": {},
   "outputs": [],
   "source": [
    "import numpy\n",
    "from matplotlib import pyplot\n",
    "from helper import l2_norm, poisson_solution, poisson_2d_jacobi"
   ]
  },
  {
   "cell_type": "code",
   "execution_count": 22,
   "metadata": {},
   "outputs": [],
   "source": [
    "nx = 101\n",
    "ny = 101\n",
    "xmin, xmax = 0.0, 1.0\n",
    "ymin, ymax = -0.5, 0.5\n",
    "Lx = xmax - xmin\n",
    "Ly = ymax - ymin\n",
    "dx = Lx / (nx - 1)\n",
    "dy = Ly / (ny - 1)  \n",
    "\n",
    "x = numpy.linspace(xmin, xmax, num=nx)\n",
    "y = numpy.linspace(ymin, ymax, num=nx)\n",
    "X, Y = numpy.meshgrid(x, y)\n",
    "\n",
    "b = (-2 * (numpy.pi / 2)**2 *\n",
    "     numpy.sin(numpy.pi * X / Lx) *\n",
    "     numpy.cos(numpy.pi * Y / Ly))\n",
    "\n",
    "p0 = numpy.zeros((ny, nx))\n",
    "\n",
    "pe = poisson_solution(x, y, Lx, Ly)"
   ]
  },
  {
   "cell_type": "code",
   "execution_count": 28,
   "metadata": {},
   "outputs": [],
   "source": [
    "def poisson_2d_steepest_descent(p0, b, dx, dy, maxiter=20000, rtol=1e-6):\n",
    "    def A(p):\n",
    "        return ((p[1:-1, :-2] - 2 * p[1:-1, 1:-1] + p[1:-1, 2:]) / dx**2 +\n",
    "                (p[:-2, 1:-1] - 2 * p[1:-1, 1:-1] + p[2:, 1:-1]) / dy**2)\n",
    "    p = p0.copy()\n",
    "    diff = rtol + 1\n",
    "    ite = 0\n",
    "    rk = numpy.zeros_like(p)\n",
    "    Ar = numpy.zeros_like(p)\n",
    "    while diff > rtol and ite < maxiter:\n",
    "        pk = p.copy()\n",
    "        rk[1:-1, 1:-1] = b[1:-1, 1:-1] - A(pk)\n",
    "        Ar[1:-1, 1:-1] = A(rk)\n",
    "        alpha = numpy.sum(rk * rk) / numpy.sum(rk * Ar)\n",
    "        p = pk + alpha * rk\n",
    "        diff = l2_norm(p, pk)\n",
    "        ite += 1\n",
    "    return p, ite, diff"
   ]
  },
  {
   "cell_type": "code",
   "execution_count": 29,
   "metadata": {},
   "outputs": [
    {
     "name": "stdout",
     "output_type": "stream",
     "text": [
      "2 1.2374874917997386e-16\n"
     ]
    }
   ],
   "source": [
    "p, ites, diff = poisson_2d_steepest_descent(p0, b, dx, dy, maxiter=20000, rtol=1e-10)\n",
    "print(ites, diff)"
   ]
  },
  {
   "cell_type": "code",
   "execution_count": 33,
   "metadata": {},
   "outputs": [],
   "source": [
    "def poisson_2d_cg(p0, b, dx, dy, maxiter=20000, rtol=1e-6):\n",
    "    def A(p):\n",
    "        return ((p[1:-1, :-2] - 2 * p[1:-1, 1:-1] + p[1:-1, 2:]) / dx**2 +\n",
    "                (p[:-2, 1:-1] - 2 * p[1:-1, 1:-1] + p[2:, 1:-1]) / dy**2)\n",
    "    p = p0.copy()\n",
    "    r = numpy.zeros_like(p)  \n",
    "    Ad = numpy.zeros_like(p)  \n",
    "    diff = rtol + 1  \n",
    "    ite = 0 \n",
    "    r[1:-1, 1:-1] = b[1:-1, 1:-1] - A(p)\n",
    "    d = r.copy()\n",
    "    while diff > rtol and ite < maxiter:\n",
    "        pk = p.copy()\n",
    "        rk = r.copy()\n",
    "        Ad[1:-1, 1:-1] = A(d)\n",
    "        alpha = numpy.sum(r * r) / numpy.sum(d * Ad)\n",
    "        p = pk + alpha * d\n",
    "        r = rk - alpha * Ad\n",
    "        beta = numpy.sum(r * r) / numpy.sum(rk * rk)\n",
    "        d = r + beta * d\n",
    "        diff = l2_norm(p, pk)\n",
    "        ite += 1\n",
    "    return p, ite, diff"
   ]
  },
  {
   "cell_type": "code",
   "execution_count": 34,
   "metadata": {},
   "outputs": [
    {
     "name": "stdout",
     "output_type": "stream",
     "text": [
      "2 1.2168165545926162e-16\n"
     ]
    }
   ],
   "source": [
    "p, ites, diff = poisson_2d_cg(p0, b, dx, dy, maxiter=20000, rtol=1e-10)\n",
    "print(ites, diff)"
   ]
  },
  {
   "cell_type": "code",
   "execution_count": 38,
   "metadata": {},
   "outputs": [
    {
     "name": "stdout",
     "output_type": "stream",
     "text": [
      "Jacobi relaxation: 31226 iterations to reach a relative difference of 9.997923503623598e-11\n"
     ]
    }
   ],
   "source": [
    "p, ites, diff = poisson_2d_jacobi(p0, b, dx, dy, maxiter=40000, rtol=1e-10)\n",
    "print('Jacobi relaxation: {} iterations '.format(ites) +\n",
    "      'to reach a relative difference of {}'.format(conv_jacobi[-1]))"
   ]
  },
  {
   "cell_type": "code",
   "execution_count": 35,
   "metadata": {},
   "outputs": [],
   "source": [
    "b = (numpy.sin(numpy.pi * X / Lx) *\n",
    "     numpy.cos(numpy.pi * Y / Ly) +\n",
    "     numpy.sin(6 * numpy.pi * X / Lx) *\n",
    "     numpy.sin(6 * numpy.pi * Y / Ly))"
   ]
  },
  {
   "cell_type": "code",
   "execution_count": 36,
   "metadata": {},
   "outputs": [
    {
     "name": "stdout",
     "output_type": "stream",
     "text": [
      "Jacobi relaxation: 31226 iterations\n",
      "Method of steepest descent: 26295 iterations\n",
      "Method of conjugate gradients: 3 iterations\n"
     ]
    }
   ],
   "source": [
    "maxiter, rtol = 40000, 1e-10\n",
    "p, ites, conv = poisson_2d_jacobi(p0, b, dx, dy, maxiter=maxiter, rtol=rtol)\n",
    "print('Jacobi relaxation: {} iterations'.format(ites))\n",
    "p, ites, conv = poisson_2d_steepest_descent(p0, b, dx, dy, maxiter=maxiter, rtol=rtol)\n",
    "print('Method of steepest descent: {} iterations'.format(ites))\n",
    "p, ites, conv = poisson_2d_conjugate_gradient(p0, b, dx, dy, maxiter=maxiter, rtol=rtol)\n",
    "print('Method of conjugate gradients: {} iterations'.format(ites))"
   ]
  }
 ],
 "metadata": {
  "kernelspec": {
   "display_name": "Python 3",
   "language": "python",
   "name": "python3"
  },
  "language_info": {
   "codemirror_mode": {
    "name": "ipython",
    "version": 3
   },
   "file_extension": ".py",
   "mimetype": "text/x-python",
   "name": "python",
   "nbconvert_exporter": "python",
   "pygments_lexer": "ipython3",
   "version": "3.7.3"
  }
 },
 "nbformat": 4,
 "nbformat_minor": 2
}
