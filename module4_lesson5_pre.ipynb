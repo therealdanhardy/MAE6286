{
 "cells": [
  {
   "cell_type": "markdown",
   "metadata": {},
   "source": [
    "# 1D head diffusion"
   ]
  },
  {
   "cell_type": "code",
   "execution_count": 6,
   "metadata": {},
   "outputs": [],
   "source": [
    "# Import modules and packages.\n",
    "from matplotlib import pyplot\n",
    "import numpy\n",
    "\n",
    "%matplotlib inline"
   ]
  },
  {
   "cell_type": "code",
   "execution_count": 7,
   "metadata": {},
   "outputs": [],
   "source": [
    "# Update default font family and size for Matplotlib figures.\n",
    "pyplot.rc('font', family='serif', size=16)"
   ]
  },
  {
   "cell_type": "markdown",
   "metadata": {},
   "source": [
    "## Discretization"
   ]
  },
  {
   "cell_type": "markdown",
   "metadata": {},
   "source": [
    "$$\n",
    "\\frac{T_i^{n+1} - T_i^n}{\\Delta t} = c_E \\alpha \\frac{T_{i-1}^n - 2 T_i^n + T_{i+1}^n}{\\Delta x^2} + c_I \\alpha \\frac{T_{i-1}^{n+1} - 2 T_i^{n+1} + T_{i+1}^{n+1}}{\\Delta x^2}\n",
    "$$\n",
    "\n",
    "\n",
    "* Forward Euler (explicit): $C_E = 1$, $C_I = 0$\n",
    "* Backward Euler (implicit): $C_E = 0$, $C_I = 1$\n",
    "* Crank-Nicolson (semi-implicit): $C_E = \\frac{1}{2}$, $C_I = \\frac{1}{2}$\n",
    "\n",
    "Matrix-vector representation:\n",
    "\n",
    "$$\n",
    "\\begin{split}\n",
    "    &\\left( \\mathbf{I} - c_I \\alpha \\Delta t \\mathbf{L} \\right) T^{n+1} = \\left( \\mathbf{I} + c_E \\alpha \\Delta t \\mathbf{L} \\right) T^n + b_\\text{b.c.} \\\\\n",
    "    &\\qquad \\quad \\Rightarrow \\quad \\mathbf{A} T^{n+1} = b\n",
    "\\end{split}\n",
    "$$"
   ]
  },
  {
   "cell_type": "markdown",
   "metadata": {},
   "source": [
    "## Parameters and initial conditions"
   ]
  },
  {
   "cell_type": "code",
   "execution_count": 27,
   "metadata": {},
   "outputs": [],
   "source": [
    "# Set parameters.\n",
    "L = 1.0  # length of the 1D domain\n",
    "nx = 21  # number of spatial points.\n",
    "dx = L / (nx - 1)  # spatial grid spacing\n",
    "x = numpy.linspace(0.0, L, num=nx)  # spatial locations\n",
    "\n",
    "alpha = 1.22e-3  # coefficient of diffusion\n",
    "T_left = 100.0  # Fix temperature at the left boundary\n",
    "q_right = 0.0  # Fix gradient at the right boundary\n",
    "\n",
    "# Set initial solution at interior points.\n",
    "T0 = numpy.zeros(nx - 2)"
   ]
  },
  {
   "cell_type": "markdown",
   "metadata": {},
   "source": [
    "## Left-hand side operator\n",
    "\n",
    "$$\n",
    "\\mathbf{A} = \\mathbf{I} - c_I \\alpha \\Delta t \\mathbf{L}\n",
    "$$\n",
    "\n",
    "where $\\mathbf{I}$ is the identity operator and $\\mathbf{L}$ is the 1D Laplacian operator.\n",
    "\n",
    "### 1D Laplacian\n",
    "\n",
    "$$\n",
    "\\nabla^2 T_i = \\left. \\frac{\\partial^2 T}{\\partial x^2} \\right|_i = \\frac{T_{i-1} - 2 T_i + T_{i+1}}{\\Delta x^2}\n",
    "$$\n",
    "\n",
    "$$\n",
    "\\mathbf{L} = \\frac{1}{\\Delta x^2}\n",
    "\\begin{bmatrix}\n",
    "    -2 & 1 & & & \\\\\n",
    "    1 & -2 & 1 & & (0) \\\\\n",
    "    & \\ddots & \\ddots & \\ddots & & \\\\\n",
    "    (0) & & 1 & -2 & 1 \\\\\n",
    "    & & & 1 & -1 \\\\\n",
    "\\end{bmatrix}\n",
    "$$"
   ]
  },
  {
   "cell_type": "code",
   "execution_count": 28,
   "metadata": {},
   "outputs": [],
   "source": [
    "def laplacian1d(N, dx):\n",
    "    \"\"\"Assemble the 1D Laplacian operator.\n",
    "    \n",
    "    Parameters\n",
    "    ----------\n",
    "    N : int\n",
    "        Number of interior points (dimension of the square matrix).\n",
    "    dx : float\n",
    "        Spatial grid spacing.\n",
    "        \n",
    "    Returns\n",
    "    -------\n",
    "    numpy.ndarray\n",
    "        The 1D Laplacian operator (as a 2D square matrix).\n",
    "    \n",
    "    \"\"\"\n",
    "    D = numpy.diag(-2*numpy.ones(N))\n",
    "    D[-1, -1] = -1\n",
    "    U = numpy.diag(numpy.ones(N-1), k=1)\n",
    "    L = numpy.diag(numpy.ones(N-1), k=-1)\n",
    "    Lap = 1/dx**2 * (D + U + L)\n",
    "    return Lap"
   ]
  },
  {
   "cell_type": "code",
   "execution_count": 29,
   "metadata": {},
   "outputs": [],
   "source": [
    "def lhs_operator(N, alpha, dt, cI, dx):\n",
    "    \"\"\"Assemble the left-hand side operator.\n",
    "    \n",
    "    Parameters\n",
    "    ----------\n",
    "    N : int\n",
    "        Number of interior points (dimension of the square matrix).\n",
    "    alpha : float\n",
    "        Coefficient of diffusion.\n",
    "    dt : float\n",
    "        Time-step size.\n",
    "    cI : float\n",
    "        Implicit coefficient of the scheme.\n",
    "    dx : float\n",
    "        Spatial grid spacing.\n",
    "    \n",
    "    Returns\n",
    "    -------\n",
    "    numpy.ndarray\n",
    "        The left-hand side operator (as a 2D square matrix).\n",
    "\n",
    "    \"\"\"\n",
    "    L = laplacian1d(N, dx)\n",
    "    I = numpy.identity(N)\n",
    "    A = I - cI * alpha * dt * L\n",
    "    return A"
   ]
  },
  {
   "cell_type": "markdown",
   "metadata": {},
   "source": [
    "## Right-hand side vector\n",
    "\n",
    "$$\n",
    "b = \\left( \\mathbf{I} + c_E \\alpha \\Delta t \\mathbf{L} \\right) T^n + b_\\text{b.c.}\n",
    "$$"
   ]
  },
  {
   "cell_type": "code",
   "execution_count": 33,
   "metadata": {},
   "outputs": [],
   "source": [
    "def rhs_vector(T, N, alpha, dt, cE, cI, dx, T_left, q_right):\n",
    "    \"\"\"Assemble the right-hand side vector.\n",
    "    \n",
    "    Parameters\n",
    "    ----------\n",
    "    T : numpy.ndarray\n",
    "        Solution at previous time step.\n",
    "    N : int\n",
    "        Number of interior points (lenght of the RHS vector).\n",
    "    alpha : float\n",
    "        Coefficient of diffusion.\n",
    "    cE : float\n",
    "        Explicit coefficient of the scheme.\n",
    "    dx : float\n",
    "        Spatial grid spacing.\n",
    "    T_left : float\n",
    "        Temperature at the left boundary (Dirichlet condition).\n",
    "    q_right : float\n",
    "        Heat flux at the right boundary (Neumann condition).\n",
    "        \n",
    "    Returns\n",
    "    -------\n",
    "    numpy.ndarray\n",
    "        The RHS vector (as a 1D array).\n",
    "\n",
    "    \"\"\"\n",
    "    I = numpy.identity(N)\n",
    "    L = laplacian1d(N, dx)\n",
    "    b_bc = numpy.zeros(N)\n",
    "    sigma = alpha * dt / dx**2\n",
    "    b_bc[0] = cI * sigma * T_left\n",
    "    b_bc[-1] = cI * sigma * q_right * dx\n",
    "    b = numpy.dot(I + cE * alpha * dt * L, T) + b_bc\n",
    "    return b"
   ]
  },
  {
   "cell_type": "markdown",
   "metadata": {},
   "source": [
    "## Create the solver...\n",
    "\n",
    "... such that we can use different numerical schemes."
   ]
  },
  {
   "cell_type": "code",
   "execution_count": 34,
   "metadata": {},
   "outputs": [],
   "source": [
    "def solver(T0, nt, dt, dx, alpha, T_left, q_right,\n",
    "           method='Forward Euler'):\n",
    "    \"\"\"Solve the system over a given number of time steps.\n",
    "    \n",
    "    Parameters\n",
    "    ----------\n",
    "    T0 : numpy.ndarray\n",
    "        Initial temperature field (as a 1D array).\n",
    "    nt : int\n",
    "        Number of time steps to compute.\n",
    "    dt : float\n",
    "        Time-step size.\n",
    "    dx : float\n",
    "        Spatial grid spacing.\n",
    "    alpha : float\n",
    "        Coefficient of diffusion.\n",
    "    T_left : float\n",
    "        Temperature at the left boundary (Dirichlet condition).\n",
    "    q_right : float\n",
    "        Heat flux at the right boundary (Neumann condition).\n",
    "    method : str, optional\n",
    "        The numerical scheme to use;\n",
    "        choices are 'Forward Euler', 'Backward Euler',\n",
    "        and `Crank-Nicolson`; default is 'Forward Euler'.\n",
    "    \n",
    "    Returns\n",
    "    -------\n",
    "    numpy.ndarray\n",
    "        Temperature after given number of time steps (as a 1D array).\n",
    "\n",
    "    \"\"\"\n",
    "    # Create a dictionary that maps the method's name\n",
    "    # to the explicit and implicit coefficients of the scheme.\n",
    "    coeffs = {'Forward Euler': (1.0, 0.0),\n",
    "              'Backward Euler': (0.0, 1.0),\n",
    "              'Crank-Nicolson': (0.5, 0.5)}\n",
    "    cE, cI = coeffs[method]  # store the coefficients\n",
    "    T = T0.copy()\n",
    "    N = T.size\n",
    "    A = lhs_operator(N, alpha, dt, cI, dx)\n",
    "    for n in range(nt):\n",
    "        b = rhs_vector(T, N, alpha, dt, cE, cI, dx, T_left, q_right)\n",
    "        T = numpy.linalg.solve(A, b)\n",
    "    return T"
   ]
  },
  {
   "cell_type": "code",
   "execution_count": 35,
   "metadata": {},
   "outputs": [],
   "source": [
    "# Set temporal parameters.\n",
    "sigma = 0.5  # CFL-like number\n",
    "dt = sigma * dx**2 / alpha  # time-step size\n",
    "nt = 10  # number of time steps.\n",
    "\n",
    "T = solver(T0, nt, dt, dx, alpha, T_left, q_right, method='Crank-Nicolson')"
   ]
  },
  {
   "cell_type": "code",
   "execution_count": 14,
   "metadata": {},
   "outputs": [],
   "source": [
    "def array_with_boundaries(T, T_left, q_right, dx):\n",
    "    \"\"\"Return an extended array with boundary values.\n",
    "    \n",
    "    Parameters\n",
    "    ----------\n",
    "    T : numpy.ndarray\n",
    "        Solution at interior points.\n",
    "    T_left : float\n",
    "        Temperature at the left boundary (Dirichlet condition).\n",
    "    q_right : float\n",
    "        Heat flux at the right boundary (Neumann condition).\n",
    "    dx : float\n",
    "        Spatial grid spacing.\n",
    "        \n",
    "    Returns\n",
    "    -------\n",
    "    numpy.ndarray\n",
    "        The extended solution (that includes boundary values).\n",
    "\n",
    "    \"\"\"\n",
    "    T_right = T[-1] + q_right * dx\n",
    "    T_ext = numpy.concatenate(([T_left], T, [T_right]))\n",
    "    return T_ext"
   ]
  },
  {
   "cell_type": "code",
   "execution_count": 36,
   "metadata": {},
   "outputs": [
    {
     "data": {
      "image/png": "[encoded data removed]",
      "text/plain": [
       "<Figure size 432x288 with 1 Axes>"
      ]
     },
     "metadata": {
      "needs_background": "light"
     },
     "output_type": "display_data"
    }
   ],
   "source": [
    "T_ext = array_with_boundaries(T, T_left, q_right, dx)\n",
    "\n",
    "pyplot.figure()\n",
    "pyplot.xlabel('Domain [m]')\n",
    "pyplot.ylabel('Temperature [C]')\n",
    "pyplot.grid()\n",
    "pyplot.plot(x, T_ext)\n",
    "pyplot.xlim(0.0, L)\n",
    "pyplot.ylim(0.0, 100.0);"
   ]
  },
  {
   "cell_type": "code",
   "execution_count": 37,
   "metadata": {},
   "outputs": [
    {
     "data": {
      "image/png": "[encoded data removed]",
      "text/plain": [
       "<Figure size 432x288 with 1 Axes>"
      ]
     },
     "metadata": {
      "needs_background": "light"
     },
     "output_type": "display_data"
    }
   ],
   "source": [
    "T_ft = solver(T0, nt, dt, dx, alpha, T_left, q_right, method='Forward Euler')\n",
    "T_bt = solver(T0, nt, dt, dx, alpha, T_left, q_right, method='Backward Euler')\n",
    "\n",
    "pyplot.figure()\n",
    "pyplot.xlabel('Domain [m]')\n",
    "pyplot.ylabel('Temperature [C]')\n",
    "pyplot.grid()\n",
    "pyplot.plot(x, T_ext, label='Crank-Nicolson')\n",
    "pyplot.plot(x, array_with_boundaries(T_ft, T_left, q_right, dx), label='Forward Euler')\n",
    "pyplot.plot(x, array_with_boundaries(T_bt, T_left, q_right, dx), label='Backward Euler')\n",
    "pyplot.legend()\n",
    "pyplot.xlim(0.0, L)\n",
    "pyplot.ylim(0.0, 100.0);"
   ]
  },
  {
   "cell_type": "markdown",
   "metadata": {},
   "source": [
    "## Analytical solution\n",
    "\n",
    "$$\n",
    "T \\left( x, t \\right) = 100 - \\sum_{n=1}^\\infty \\frac{400}{(2n - 1) \\pi} \\sin \\left( \\frac{(2n - 1) \\pi}{2L} x \\right) \\exp \\left( -\\alpha \\left( \\frac{(2n - 1) \\pi}{2L} \\right)^2 t \\right)\n",
    "$$\n",
    "\n",
    "We can compute a truncated version of the analytical solution."
   ]
  },
  {
   "cell_type": "code",
   "execution_count": null,
   "metadata": {},
   "outputs": [],
   "source": [
    "def analytical_temperature(x, t, alpha, L, N=100):\n",
    "    \"\"\"Compute a truncated exact solution.\n",
    "    \n",
    "    Parameters\n",
    "    ----------\n",
    "    x : numpy.ndarray\n",
    "        The grid locations (as a 1D array of floats).\n",
    "    t : float\n",
    "        Time values.\n",
    "    alpha : float\n",
    "        Coefficient of diffusion.\n",
    "    L : float\n",
    "        Length of the domain.\n",
    "    N : int, optional\n",
    "        Number of terms to evaluate for the truncation solution;\n",
    "        default: 100.\n",
    "    \n",
    "    Returns\n",
    "    -------\n",
    "    numpy.ndarray\n",
    "        The truncated exact solution (as a 1D array).\n",
    "\n",
    "    \"\"\"\n",
    "    \n",
    "    return T"
   ]
  },
  {
   "cell_type": "code",
   "execution_count": null,
   "metadata": {},
   "outputs": [],
   "source": [
    "###\n",
    "### To do: compute the analytical solution with N = 100.\n",
    "###\n"
   ]
  },
  {
   "cell_type": "code",
   "execution_count": null,
   "metadata": {},
   "outputs": [],
   "source": [
    "###\n",
    "### To do: plot the Crank-Nicolson and analytical solutions together.\n",
    "###\n"
   ]
  },
  {
   "cell_type": "markdown",
   "metadata": {},
   "source": [
    "## Temporal convergence analysis"
   ]
  },
  {
   "cell_type": "code",
   "execution_count": null,
   "metadata": {},
   "outputs": [],
   "source": [
    "# Perform temporal convergence analysis.\n",
    "nx = 1001  # number of spatial points in the domain\n",
    "dx = L / (nx - 1)  # spatial grid spacing\n",
    "x = numpy.linspace(0.0, L, num=nx)  # spatial locations\n",
    "\n",
    "# Time-step sizes for which the solution will be computed.\n",
    "dt_vals = [1.0, 0.5, 0.25, 0.125]\n",
    "\n",
    "# List to store the relative L2-norms\n",
    "errors_cn = []  # for Crank-Nicolson\n",
    "errors_bt = []  # for Backward Euler\n",
    "\n",
    "# Compute the initial solution.\n",
    "t0 = 1.0\n",
    "T0 = analytical_temperature(x[1:-1], t0, alpha, L)\n",
    "\n",
    "# Compute the final solution.\n",
    "tf = 10.0\n",
    "T_e = analytical_temperature(x[1:-1], tf, alpha, L)\n",
    "\n",
    "for dt in dt_vals:\n",
    "    nt = int((tf - t0) / dt)\n",
    "    ###\n",
    "    ### To do: compute the relative L2-norm of the error for\n",
    "    ### Crank-Nicolson and Backward Euler\n",
    "    ### and for different time-step sizes.\n",
    "    ### Append errors to `errors_cn` for Crank-Nicolson\n",
    "    ### and to `errors_bt` for Backward Euler.\n",
    "    ###\n",
    "    "
   ]
  },
  {
   "cell_type": "code",
   "execution_count": null,
   "metadata": {},
   "outputs": [],
   "source": [
    "###\n",
    "### To do: plot the errors versus the time-step size\n",
    "### (using a log/log plot).\n",
    "###\n"
   ]
  },
  {
   "cell_type": "markdown",
   "metadata": {},
   "source": [
    "What's the order of convergence in time for Crank-Nicolson and for Backward Euler?"
   ]
  },
  {
   "cell_type": "markdown",
   "metadata": {},
   "source": [
    "## Spatial convergence analysis"
   ]
  },
  {
   "cell_type": "code",
   "execution_count": null,
   "metadata": {},
   "outputs": [],
   "source": [
    "dt = 0.1  # time-step size\n",
    "tf = 20.0  # final time\n",
    "nt = int(tf / dt)  # number of time steps\n",
    "\n",
    "# Spatial grid spacings for which the solution will be computed.\n",
    "dx_vals = [0.1, 0.05, 0.025, 0.0125, 0.00625]\n",
    "\n",
    "# List to store the relative L2-norm of the error.\n",
    "errors = []\n",
    "\n",
    "for dx in dx_vals:\n",
    "    ###\n",
    "    ### To do: compute the solution with Crank-Nicolson,\n",
    "    ### compute the analytical solution,\n",
    "    ### compute the relative L2-norm of the error.\n",
    "    ###\n",
    "    "
   ]
  },
  {
   "cell_type": "code",
   "execution_count": null,
   "metadata": {},
   "outputs": [],
   "source": [
    "###\n",
    "### To do: plot the errors versus the spatial grid spacing\n",
    "### (using a log/log plot).\n",
    "###\n"
   ]
  },
  {
   "cell_type": "markdown",
   "metadata": {},
   "source": [
    "What's the order of convergence in space of the Crank-Nicolson method?"
   ]
  },
  {
   "cell_type": "markdown",
   "metadata": {},
   "source": [
    "## Spatial convergence analysis at later time"
   ]
  },
  {
   "cell_type": "code",
   "execution_count": null,
   "metadata": {},
   "outputs": [],
   "source": [
    "dt = 0.1  # time-step size\n",
    "tf = 1000.0 # final time (we want the solution way later in time)\n",
    "nt = int(tf / dt)  # number of time steps\n",
    "\n",
    "# Spatial grid spacings for which the solution will be computed.\n",
    "dx_vals = [0.1, 0.05, 0.025, 0.0125, 0.00625]\n",
    "\n",
    "# List to store the relative L2-norm of the error.\n",
    "errors = []\n",
    "\n",
    "for dx in dx_vals:\n",
    "    ###\n",
    "    ### To do: compute the solution with Crank-Nicolson,\n",
    "    ### compute the analytical solution,\n",
    "    ### compute the relative L2-norm of the error.\n",
    "    ###\n",
    "    "
   ]
  },
  {
   "cell_type": "code",
   "execution_count": null,
   "metadata": {},
   "outputs": [],
   "source": [
    "###\n",
    "### To do: plot the errors versus the spatial grid spacing\n",
    "### (using a log/log plot).\n",
    "###\n"
   ]
  },
  {
   "cell_type": "markdown",
   "metadata": {},
   "source": [
    "How is the spatial order of convergence affected?\n",
    "And why?"
   ]
  },
  {
   "cell_type": "code",
   "execution_count": null,
   "metadata": {},
   "outputs": [],
   "source": []
  }
 ],
 "metadata": {
  "kernelspec": {
   "display_name": "Python 3",
   "language": "python",
   "name": "python3"
  },
  "language_info": {
   "codemirror_mode": {
    "name": "ipython",
    "version": 3
   },
   "file_extension": ".py",
   "mimetype": "text/x-python",
   "name": "python",
   "nbconvert_exporter": "python",
   "pygments_lexer": "ipython3",
   "version": "3.7.3"
  }
 },
 "nbformat": 4,
 "nbformat_minor": 2
}
