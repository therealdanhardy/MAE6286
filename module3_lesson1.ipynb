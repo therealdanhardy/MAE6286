{
 "cells": [
  {
   "cell_type": "code",
   "execution_count": 27,
   "metadata": {},
   "outputs": [],
   "source": [
    "import numpy\n",
    "from matplotlib import pyplot"
   ]
  },
  {
   "cell_type": "code",
   "execution_count": 28,
   "metadata": {},
   "outputs": [],
   "source": [
    "pmax = 10.0\n",
    "umax = 1.0\n",
    "L = 4\n",
    "nx = 81\n",
    "dx = L / (nx - 1)\n",
    "sigma = 1\n",
    "dt = sigma * dx / umax\n",
    "nt = 30"
   ]
  },
  {
   "cell_type": "code",
   "execution_count": 61,
   "metadata": {},
   "outputs": [],
   "source": [
    "x = numpy.linspace(0.0, L, num=nx)"
   ]
  },
  {
   "cell_type": "code",
   "execution_count": 132,
   "metadata": {},
   "outputs": [],
   "source": [
    "def ic(x, xL, pL):\n",
    "    p0 = numpy.zeros_like(x)\n",
    "    mask = numpy.where((x >= 0.0) & (x < xL))\n",
    "    p0[mask] = pL * x[mask] / xL\n",
    "    return p0"
   ]
  },
  {
   "cell_type": "code",
   "execution_count": 133,
   "metadata": {},
   "outputs": [
    {
     "data": {
      "image/png": "[encoded data removed]",
      "text/plain": [
       "<Figure size 432x288 with 1 Axes>"
      ]
     },
     "metadata": {
      "needs_background": "light"
     },
     "output_type": "display_data"
    }
   ],
   "source": [
    "xL = 2.0\n",
    "pL = 5.0\n",
    "p0 = ic(x, xL, pL)\n",
    "pyplot.plot(x, p0);"
   ]
  },
  {
   "cell_type": "code",
   "execution_count": 134,
   "metadata": {},
   "outputs": [],
   "source": [
    "def velocity(p, pmax, umax):\n",
    "    u = umax * (1 - (p / pmax))\n",
    "    return u"
   ]
  },
  {
   "cell_type": "code",
   "execution_count": 135,
   "metadata": {},
   "outputs": [],
   "source": [
    "def flux(p, pmax, umax):\n",
    "    F = p * velocity(p, pmax, umax)\n",
    "    return F"
   ]
  },
  {
   "cell_type": "code",
   "execution_count": 136,
   "metadata": {},
   "outputs": [],
   "source": [
    "def ftbs(p0, pmax, umax, dt, dx, nt):\n",
    "    p_hist = [p0.copy()]\n",
    "    p = p0.copy()\n",
    "    for n in range(nt):\n",
    "        F = flux(p, pmax, umax)\n",
    "        # 1\n",
    "        p[1:] = p[1:] - dt * (F[1:] - F[:-1]) / dx\n",
    "        # 2\n",
    "#        for i in range(1, nt):\n",
    "#            p[i] = p[i] - dt * (F[i] - F[i-1]) / dx\n",
    "#            # 3 \n",
    "#            p[i] = p[i] - dt/dx * (flux(p[i], pmax, umax) -\n",
    "#                                   flux(p[i - 1], pmax, umax))\n",
    "        p_hist.append(p.copy())\n",
    "    return p_hist"
   ]
  },
  {
   "cell_type": "code",
   "execution_count": 137,
   "metadata": {},
   "outputs": [],
   "source": [
    "p_hist = ftbs(p0, pmax, umax, dt, dx, nt)"
   ]
  },
  {
   "cell_type": "code",
   "execution_count": 138,
   "metadata": {},
   "outputs": [],
   "source": [
    "def plot(n, x, p_hist):\n",
    "    pyplot.figure()\n",
    "    pyplot.title('Time Step: {}'.format(n))\n",
    "    pyplot.xlabel('Road')\n",
    "    pyplot.ylabel('Traffic Density')\n",
    "    pyplot.plot(x, p_hist[n])\n",
    "    pyplot.xlim(x[0], x[-1])\n",
    "    pyplot.ylim(-0.5, 11.0)\n",
    "    pyplot.show()"
   ]
  },
  {
   "cell_type": "code",
   "execution_count": 140,
   "metadata": {},
   "outputs": [
    {
     "data": {
      "image/png": "[encoded data removed]",
      "text/plain": [
       "<Figure size 432x288 with 1 Axes>"
      ]
     },
     "metadata": {
      "needs_background": "light"
     },
     "output_type": "display_data"
    }
   ],
   "source": [
    "plot(1, x, p_hist)"
   ]
  },
  {
   "cell_type": "code",
   "execution_count": 141,
   "metadata": {},
   "outputs": [],
   "source": [
    "import ipywidgets"
   ]
  },
  {
   "cell_type": "code",
   "execution_count": 142,
   "metadata": {},
   "outputs": [],
   "source": [
    "def interactive_plot(x, p_hist):\n",
    "    nt = len(p_hist) - 1\n",
    "    nt_slider = ipywidgets.IntSlider(value=0, min=0, max=nt, step=1,\n",
    "                                    description='Time Step')\n",
    "    w = ipywidgets.interactive(plot, n=nt_slider,\n",
    "                               x=ipywidgets.fixed(x),\n",
    "                              p_hist=ipywidgets.fixed(p_hist))\n",
    "    return w"
   ]
  },
  {
   "cell_type": "code",
   "execution_count": 143,
   "metadata": {},
   "outputs": [
    {
     "data": {
      "application/vnd.jupyter.widget-view+json": {
       "model_id": "23413b78102c44cabda6848e34c9d2d4",
       "version_major": 2,
       "version_minor": 0
      },
      "text/plain": [
       "interactive(children=(IntSlider(value=0, description='Time Step', max=30), Output()), _dom_classes=('widget-in…"
      ]
     },
     "metadata": {},
     "output_type": "display_data"
    }
   ],
   "source": [
    "interactive_plot(x, p_hist)"
   ]
  },
  {
   "cell_type": "code",
   "execution_count": null,
   "metadata": {},
   "outputs": [],
   "source": []
  }
 ],
 "metadata": {
  "kernelspec": {
   "display_name": "Python 3",
   "language": "python",
   "name": "python3"
  },
  "language_info": {
   "codemirror_mode": {
    "name": "ipython",
    "version": 3
   },
   "file_extension": ".py",
   "mimetype": "text/x-python",
   "name": "python",
   "nbconvert_exporter": "python",
   "pygments_lexer": "ipython3",
   "version": "3.7.3"
  }
 },
 "nbformat": 4,
 "nbformat_minor": 2
}
